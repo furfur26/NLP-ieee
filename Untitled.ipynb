{
 "cells": [
  {
   "cell_type": "code",
   "execution_count": 4,
   "id": "c9213875",
   "metadata": {},
   "outputs": [],
   "source": [
    "import numpy as np\n",
    "import pandas as pd\n",
    "data=pd.read_csv(\"NLPlabeledData.tsv\",delimiter=\"\\t\",quoting=3)"
   ]
  },
  {
   "cell_type": "code",
   "execution_count": 6,
   "id": "a104c16c",
   "metadata": {},
   "outputs": [
    {
     "data": {
      "text/html": [
       "<div>\n",
       "<style scoped>\n",
       "    .dataframe tbody tr th:only-of-type {\n",
       "        vertical-align: middle;\n",
       "    }\n",
       "\n",
       "    .dataframe tbody tr th {\n",
       "        vertical-align: top;\n",
       "    }\n",
       "\n",
       "    .dataframe thead th {\n",
       "        text-align: right;\n",
       "    }\n",
       "</style>\n",
       "<table border=\"1\" class=\"dataframe\">\n",
       "  <thead>\n",
       "    <tr style=\"text-align: right;\">\n",
       "      <th></th>\n",
       "      <th>id</th>\n",
       "      <th>sentiment</th>\n",
       "      <th>review</th>\n",
       "    </tr>\n",
       "  </thead>\n",
       "  <tbody>\n",
       "    <tr>\n",
       "      <th>0</th>\n",
       "      <td>\"5814_8\"</td>\n",
       "      <td>1</td>\n",
       "      <td>\"With all this stuff going down at the moment ...</td>\n",
       "    </tr>\n",
       "    <tr>\n",
       "      <th>1</th>\n",
       "      <td>\"2381_9\"</td>\n",
       "      <td>1</td>\n",
       "      <td>\"\\\"The Classic War of the Worlds\\\" by Timothy ...</td>\n",
       "    </tr>\n",
       "    <tr>\n",
       "      <th>2</th>\n",
       "      <td>\"7759_3\"</td>\n",
       "      <td>0</td>\n",
       "      <td>\"The film starts with a manager (Nicholas Bell...</td>\n",
       "    </tr>\n",
       "    <tr>\n",
       "      <th>3</th>\n",
       "      <td>\"3630_4\"</td>\n",
       "      <td>0</td>\n",
       "      <td>\"It must be assumed that those who praised thi...</td>\n",
       "    </tr>\n",
       "    <tr>\n",
       "      <th>4</th>\n",
       "      <td>\"9495_8\"</td>\n",
       "      <td>1</td>\n",
       "      <td>\"Superbly trashy and wondrously unpretentious ...</td>\n",
       "    </tr>\n",
       "  </tbody>\n",
       "</table>\n",
       "</div>"
      ],
      "text/plain": [
       "         id  sentiment                                             review\n",
       "0  \"5814_8\"          1  \"With all this stuff going down at the moment ...\n",
       "1  \"2381_9\"          1  \"\\\"The Classic War of the Worlds\\\" by Timothy ...\n",
       "2  \"7759_3\"          0  \"The film starts with a manager (Nicholas Bell...\n",
       "3  \"3630_4\"          0  \"It must be assumed that those who praised thi...\n",
       "4  \"9495_8\"          1  \"Superbly trashy and wondrously unpretentious ..."
      ]
     },
     "execution_count": 6,
     "metadata": {},
     "output_type": "execute_result"
    }
   ],
   "source": [
    "data.head()"
   ]
  },
  {
   "cell_type": "code",
   "execution_count": 8,
   "id": "82236e85",
   "metadata": {},
   "outputs": [
    {
     "name": "stderr",
     "output_type": "stream",
     "text": [
      "[nltk_data] Downloading package stopwords to\n",
      "[nltk_data]     C:\\Users\\omers\\AppData\\Roaming\\nltk_data...\n",
      "[nltk_data]   Unzipping corpora\\stopwords.zip.\n"
     ]
    }
   ],
   "source": [
    "from nltk.corpus import stopwords\n",
    "import nltk\n",
    "nltk.download(\"stopwords\")\n",
    "liste=stopwords.words(\"english\")"
   ]
  },
  {
   "cell_type": "code",
   "execution_count": 9,
   "id": "626e277a",
   "metadata": {},
   "outputs": [
    {
     "data": {
      "text/plain": [
       "['i',\n",
       " 'me',\n",
       " 'my',\n",
       " 'myself',\n",
       " 'we',\n",
       " 'our',\n",
       " 'ours',\n",
       " 'ourselves',\n",
       " 'you',\n",
       " \"you're\",\n",
       " \"you've\",\n",
       " \"you'll\",\n",
       " \"you'd\",\n",
       " 'your',\n",
       " 'yours',\n",
       " 'yourself',\n",
       " 'yourselves',\n",
       " 'he',\n",
       " 'him',\n",
       " 'his',\n",
       " 'himself',\n",
       " 'she',\n",
       " \"she's\",\n",
       " 'her',\n",
       " 'hers',\n",
       " 'herself',\n",
       " 'it',\n",
       " \"it's\",\n",
       " 'its',\n",
       " 'itself',\n",
       " 'they',\n",
       " 'them',\n",
       " 'their',\n",
       " 'theirs',\n",
       " 'themselves',\n",
       " 'what',\n",
       " 'which',\n",
       " 'who',\n",
       " 'whom',\n",
       " 'this',\n",
       " 'that',\n",
       " \"that'll\",\n",
       " 'these',\n",
       " 'those',\n",
       " 'am',\n",
       " 'is',\n",
       " 'are',\n",
       " 'was',\n",
       " 'were',\n",
       " 'be',\n",
       " 'been',\n",
       " 'being',\n",
       " 'have',\n",
       " 'has',\n",
       " 'had',\n",
       " 'having',\n",
       " 'do',\n",
       " 'does',\n",
       " 'did',\n",
       " 'doing',\n",
       " 'a',\n",
       " 'an',\n",
       " 'the',\n",
       " 'and',\n",
       " 'but',\n",
       " 'if',\n",
       " 'or',\n",
       " 'because',\n",
       " 'as',\n",
       " 'until',\n",
       " 'while',\n",
       " 'of',\n",
       " 'at',\n",
       " 'by',\n",
       " 'for',\n",
       " 'with',\n",
       " 'about',\n",
       " 'against',\n",
       " 'between',\n",
       " 'into',\n",
       " 'through',\n",
       " 'during',\n",
       " 'before',\n",
       " 'after',\n",
       " 'above',\n",
       " 'below',\n",
       " 'to',\n",
       " 'from',\n",
       " 'up',\n",
       " 'down',\n",
       " 'in',\n",
       " 'out',\n",
       " 'on',\n",
       " 'off',\n",
       " 'over',\n",
       " 'under',\n",
       " 'again',\n",
       " 'further',\n",
       " 'then',\n",
       " 'once',\n",
       " 'here',\n",
       " 'there',\n",
       " 'when',\n",
       " 'where',\n",
       " 'why',\n",
       " 'how',\n",
       " 'all',\n",
       " 'any',\n",
       " 'both',\n",
       " 'each',\n",
       " 'few',\n",
       " 'more',\n",
       " 'most',\n",
       " 'other',\n",
       " 'some',\n",
       " 'such',\n",
       " 'no',\n",
       " 'nor',\n",
       " 'not',\n",
       " 'only',\n",
       " 'own',\n",
       " 'same',\n",
       " 'so',\n",
       " 'than',\n",
       " 'too',\n",
       " 'very',\n",
       " 's',\n",
       " 't',\n",
       " 'can',\n",
       " 'will',\n",
       " 'just',\n",
       " 'don',\n",
       " \"don't\",\n",
       " 'should',\n",
       " \"should've\",\n",
       " 'now',\n",
       " 'd',\n",
       " 'll',\n",
       " 'm',\n",
       " 'o',\n",
       " 're',\n",
       " 've',\n",
       " 'y',\n",
       " 'ain',\n",
       " 'aren',\n",
       " \"aren't\",\n",
       " 'couldn',\n",
       " \"couldn't\",\n",
       " 'didn',\n",
       " \"didn't\",\n",
       " 'doesn',\n",
       " \"doesn't\",\n",
       " 'hadn',\n",
       " \"hadn't\",\n",
       " 'hasn',\n",
       " \"hasn't\",\n",
       " 'haven',\n",
       " \"haven't\",\n",
       " 'isn',\n",
       " \"isn't\",\n",
       " 'ma',\n",
       " 'mightn',\n",
       " \"mightn't\",\n",
       " 'mustn',\n",
       " \"mustn't\",\n",
       " 'needn',\n",
       " \"needn't\",\n",
       " 'shan',\n",
       " \"shan't\",\n",
       " 'shouldn',\n",
       " \"shouldn't\",\n",
       " 'wasn',\n",
       " \"wasn't\",\n",
       " 'weren',\n",
       " \"weren't\",\n",
       " 'won',\n",
       " \"won't\",\n",
       " 'wouldn',\n",
       " \"wouldn't\"]"
      ]
     },
     "execution_count": 9,
     "metadata": {},
     "output_type": "execute_result"
    }
   ],
   "source": [
    "liste"
   ]
  },
  {
   "cell_type": "code",
   "execution_count": 12,
   "id": "8f7792d9",
   "metadata": {},
   "outputs": [],
   "source": [
    "liste1=stopwords.words(\"turkish\")"
   ]
  },
  {
   "cell_type": "code",
   "execution_count": 14,
   "id": "247a94ba",
   "metadata": {},
   "outputs": [
    {
     "data": {
      "text/plain": [
       "['acaba',\n",
       " 'ama',\n",
       " 'aslında',\n",
       " 'az',\n",
       " 'bazı',\n",
       " 'belki',\n",
       " 'biri',\n",
       " 'birkaç',\n",
       " 'birşey',\n",
       " 'biz',\n",
       " 'bu',\n",
       " 'çok',\n",
       " 'çünkü',\n",
       " 'da',\n",
       " 'daha',\n",
       " 'de',\n",
       " 'defa',\n",
       " 'diye',\n",
       " 'eğer',\n",
       " 'en',\n",
       " 'gibi',\n",
       " 'hem',\n",
       " 'hep',\n",
       " 'hepsi',\n",
       " 'her',\n",
       " 'hiç',\n",
       " 'için',\n",
       " 'ile',\n",
       " 'ise',\n",
       " 'kez',\n",
       " 'ki',\n",
       " 'kim',\n",
       " 'mı',\n",
       " 'mu',\n",
       " 'mü',\n",
       " 'nasıl',\n",
       " 'ne',\n",
       " 'neden',\n",
       " 'nerde',\n",
       " 'nerede',\n",
       " 'nereye',\n",
       " 'niçin',\n",
       " 'niye',\n",
       " 'o',\n",
       " 'sanki',\n",
       " 'şey',\n",
       " 'siz',\n",
       " 'şu',\n",
       " 'tüm',\n",
       " 've',\n",
       " 'veya',\n",
       " 'ya',\n",
       " 'yani']"
      ]
     },
     "execution_count": 14,
     "metadata": {},
     "output_type": "execute_result"
    }
   ],
   "source": [
    "liste1"
   ]
  },
  {
   "cell_type": "code",
   "execution_count": 16,
   "id": "c462b70e",
   "metadata": {},
   "outputs": [],
   "source": [
    "ornek_metin=data.review[0]"
   ]
  },
  {
   "cell_type": "code",
   "execution_count": 18,
   "id": "387ec0eb",
   "metadata": {},
   "outputs": [
    {
     "data": {
      "text/plain": [
       "'\"With all this stuff going down at the moment with MJ i\\'ve started listening to his music, watching the odd documentary here and there, watched The Wiz and watched Moonwalker again. Maybe i just want to get a certain insight into this guy who i thought was really cool in the eighties just to maybe make up my mind whether he is guilty or innocent. Moonwalker is part biography, part feature film which i remember going to see at the cinema when it was originally released. Some of it has subtle messages about MJ\\'s feeling towards the press and also the obvious message of drugs are bad m\\'kay.<br /><br />Visually impressive but of course this is all about Michael Jackson so unless you remotely like MJ in anyway then you are going to hate this and find it boring. Some may call MJ an egotist for consenting to the making of this movie BUT MJ and most of his fans would say that he made it for the fans which if true is really nice of him.<br /><br />The actual feature film bit when it finally starts is only on for 20 minutes or so excluding the Smooth Criminal sequence and Joe Pesci is convincing as a psychopathic all powerful drug lord. Why he wants MJ dead so bad is beyond me. Because MJ overheard his plans? Nah, Joe Pesci\\'s character ranted that he wanted people to know it is he who is supplying drugs etc so i dunno, maybe he just hates MJ\\'s music.<br /><br />Lots of cool things in this like MJ turning into a car and a robot and the whole Speed Demon sequence. Also, the director must have had the patience of a saint when it came to filming the kiddy Bad sequence as usually directors hate working with one kid let alone a whole bunch of them performing a complex dance scene.<br /><br />Bottom line, this movie is for people who like MJ on one level or another (which i think is most people). If not, then stay away. It does try and give off a wholesome message and ironically MJ\\'s bestest buddy in this movie is a girl! Michael Jackson is truly one of the most talented people ever to grace this planet but is he guilty? Well, with all the attention i\\'ve gave this subject....hmmm well i don\\'t know because people can be different behind closed doors, i know this for a fact. He is either an extremely nice but stupid guy or one of the most sickest liars. I hope he is not the latter.\"'"
      ]
     },
     "execution_count": 18,
     "metadata": {},
     "output_type": "execute_result"
    }
   ],
   "source": [
    "ornek_metin"
   ]
  },
  {
   "cell_type": "code",
   "execution_count": 20,
   "id": "3e425eb6",
   "metadata": {},
   "outputs": [],
   "source": [
    "from bs4 import BeautifulSoup\n",
    "ornek_metin1=BeautifulSoup(ornek_metin,\"lxml\").get_text()"
   ]
  },
  {
   "cell_type": "code",
   "execution_count": 22,
   "id": "f92cb647",
   "metadata": {},
   "outputs": [
    {
     "data": {
      "text/plain": [
       "'\"With all this stuff going down at the moment with MJ i\\'ve started listening to his music, watching the odd documentary here and there, watched The Wiz and watched Moonwalker again. Maybe i just want to get a certain insight into this guy who i thought was really cool in the eighties just to maybe make up my mind whether he is guilty or innocent. Moonwalker is part biography, part feature film which i remember going to see at the cinema when it was originally released. Some of it has subtle messages about MJ\\'s feeling towards the press and also the obvious message of drugs are bad m\\'kay.Visually impressive but of course this is all about Michael Jackson so unless you remotely like MJ in anyway then you are going to hate this and find it boring. Some may call MJ an egotist for consenting to the making of this movie BUT MJ and most of his fans would say that he made it for the fans which if true is really nice of him.The actual feature film bit when it finally starts is only on for 20 minutes or so excluding the Smooth Criminal sequence and Joe Pesci is convincing as a psychopathic all powerful drug lord. Why he wants MJ dead so bad is beyond me. Because MJ overheard his plans? Nah, Joe Pesci\\'s character ranted that he wanted people to know it is he who is supplying drugs etc so i dunno, maybe he just hates MJ\\'s music.Lots of cool things in this like MJ turning into a car and a robot and the whole Speed Demon sequence. Also, the director must have had the patience of a saint when it came to filming the kiddy Bad sequence as usually directors hate working with one kid let alone a whole bunch of them performing a complex dance scene.Bottom line, this movie is for people who like MJ on one level or another (which i think is most people). If not, then stay away. It does try and give off a wholesome message and ironically MJ\\'s bestest buddy in this movie is a girl! Michael Jackson is truly one of the most talented people ever to grace this planet but is he guilty? Well, with all the attention i\\'ve gave this subject....hmmm well i don\\'t know because people can be different behind closed doors, i know this for a fact. He is either an extremely nice but stupid guy or one of the most sickest liars. I hope he is not the latter.\"'"
      ]
     },
     "execution_count": 22,
     "metadata": {},
     "output_type": "execute_result"
    }
   ],
   "source": [
    "ornek_metin1"
   ]
  },
  {
   "cell_type": "code",
   "execution_count": 11,
   "id": "118b6ce5",
   "metadata": {},
   "outputs": [],
   "source": [
    "import re\n",
    "ornek_metin1=re.sub(\"[^a-zA-Z]\",\" \",ornek_metin1)"
   ]
  },
  {
   "cell_type": "code",
   "execution_count": 12,
   "id": "e6a9ec14",
   "metadata": {},
   "outputs": [
    {
     "data": {
      "text/plain": [
       "' With all this stuff going down at the moment with MJ i ve started listening to his music  watching the odd documentary here and there  watched The Wiz and watched Moonwalker again  Maybe i just want to get a certain insight into this guy who i thought was really cool in the eighties just to maybe make up my mind whether he is guilty or innocent  Moonwalker is part biography  part feature film which i remember going to see at the cinema when it was originally released  Some of it has subtle messages about MJ s feeling towards the press and also the obvious message of drugs are bad m kay Visually impressive but of course this is all about Michael Jackson so unless you remotely like MJ in anyway then you are going to hate this and find it boring  Some may call MJ an egotist for consenting to the making of this movie BUT MJ and most of his fans would say that he made it for the fans which if true is really nice of him The actual feature film bit when it finally starts is only on for    minutes or so excluding the Smooth Criminal sequence and Joe Pesci is convincing as a psychopathic all powerful drug lord  Why he wants MJ dead so bad is beyond me  Because MJ overheard his plans  Nah  Joe Pesci s character ranted that he wanted people to know it is he who is supplying drugs etc so i dunno  maybe he just hates MJ s music Lots of cool things in this like MJ turning into a car and a robot and the whole Speed Demon sequence  Also  the director must have had the patience of a saint when it came to filming the kiddy Bad sequence as usually directors hate working with one kid let alone a whole bunch of them performing a complex dance scene Bottom line  this movie is for people who like MJ on one level or another  which i think is most people   If not  then stay away  It does try and give off a wholesome message and ironically MJ s bestest buddy in this movie is a girl  Michael Jackson is truly one of the most talented people ever to grace this planet but is he guilty  Well  with all the attention i ve gave this subject    hmmm well i don t know because people can be different behind closed doors  i know this for a fact  He is either an extremely nice but stupid guy or one of the most sickest liars  I hope he is not the latter  '"
      ]
     },
     "execution_count": 12,
     "metadata": {},
     "output_type": "execute_result"
    }
   ],
   "source": [
    "ornek_metin1"
   ]
  },
  {
   "cell_type": "code",
   "execution_count": 13,
   "id": "3424ad10",
   "metadata": {},
   "outputs": [],
   "source": [
    "ornek_metin1=ornek_metin1.lower()\n",
    "ornek_metin1=ornek_metin1.split()"
   ]
  },
  {
   "cell_type": "code",
   "execution_count": 14,
   "id": "371fe31a",
   "metadata": {},
   "outputs": [
    {
     "data": {
      "text/plain": [
       "['with',\n",
       " 'all',\n",
       " 'this',\n",
       " 'stuff',\n",
       " 'going',\n",
       " 'down',\n",
       " 'at',\n",
       " 'the',\n",
       " 'moment',\n",
       " 'with',\n",
       " 'mj',\n",
       " 'i',\n",
       " 've',\n",
       " 'started',\n",
       " 'listening',\n",
       " 'to',\n",
       " 'his',\n",
       " 'music',\n",
       " 'watching',\n",
       " 'the',\n",
       " 'odd',\n",
       " 'documentary',\n",
       " 'here',\n",
       " 'and',\n",
       " 'there',\n",
       " 'watched',\n",
       " 'the',\n",
       " 'wiz',\n",
       " 'and',\n",
       " 'watched',\n",
       " 'moonwalker',\n",
       " 'again',\n",
       " 'maybe',\n",
       " 'i',\n",
       " 'just',\n",
       " 'want',\n",
       " 'to',\n",
       " 'get',\n",
       " 'a',\n",
       " 'certain',\n",
       " 'insight',\n",
       " 'into',\n",
       " 'this',\n",
       " 'guy',\n",
       " 'who',\n",
       " 'i',\n",
       " 'thought',\n",
       " 'was',\n",
       " 'really',\n",
       " 'cool',\n",
       " 'in',\n",
       " 'the',\n",
       " 'eighties',\n",
       " 'just',\n",
       " 'to',\n",
       " 'maybe',\n",
       " 'make',\n",
       " 'up',\n",
       " 'my',\n",
       " 'mind',\n",
       " 'whether',\n",
       " 'he',\n",
       " 'is',\n",
       " 'guilty',\n",
       " 'or',\n",
       " 'innocent',\n",
       " 'moonwalker',\n",
       " 'is',\n",
       " 'part',\n",
       " 'biography',\n",
       " 'part',\n",
       " 'feature',\n",
       " 'film',\n",
       " 'which',\n",
       " 'i',\n",
       " 'remember',\n",
       " 'going',\n",
       " 'to',\n",
       " 'see',\n",
       " 'at',\n",
       " 'the',\n",
       " 'cinema',\n",
       " 'when',\n",
       " 'it',\n",
       " 'was',\n",
       " 'originally',\n",
       " 'released',\n",
       " 'some',\n",
       " 'of',\n",
       " 'it',\n",
       " 'has',\n",
       " 'subtle',\n",
       " 'messages',\n",
       " 'about',\n",
       " 'mj',\n",
       " 's',\n",
       " 'feeling',\n",
       " 'towards',\n",
       " 'the',\n",
       " 'press',\n",
       " 'and',\n",
       " 'also',\n",
       " 'the',\n",
       " 'obvious',\n",
       " 'message',\n",
       " 'of',\n",
       " 'drugs',\n",
       " 'are',\n",
       " 'bad',\n",
       " 'm',\n",
       " 'kay',\n",
       " 'visually',\n",
       " 'impressive',\n",
       " 'but',\n",
       " 'of',\n",
       " 'course',\n",
       " 'this',\n",
       " 'is',\n",
       " 'all',\n",
       " 'about',\n",
       " 'michael',\n",
       " 'jackson',\n",
       " 'so',\n",
       " 'unless',\n",
       " 'you',\n",
       " 'remotely',\n",
       " 'like',\n",
       " 'mj',\n",
       " 'in',\n",
       " 'anyway',\n",
       " 'then',\n",
       " 'you',\n",
       " 'are',\n",
       " 'going',\n",
       " 'to',\n",
       " 'hate',\n",
       " 'this',\n",
       " 'and',\n",
       " 'find',\n",
       " 'it',\n",
       " 'boring',\n",
       " 'some',\n",
       " 'may',\n",
       " 'call',\n",
       " 'mj',\n",
       " 'an',\n",
       " 'egotist',\n",
       " 'for',\n",
       " 'consenting',\n",
       " 'to',\n",
       " 'the',\n",
       " 'making',\n",
       " 'of',\n",
       " 'this',\n",
       " 'movie',\n",
       " 'but',\n",
       " 'mj',\n",
       " 'and',\n",
       " 'most',\n",
       " 'of',\n",
       " 'his',\n",
       " 'fans',\n",
       " 'would',\n",
       " 'say',\n",
       " 'that',\n",
       " 'he',\n",
       " 'made',\n",
       " 'it',\n",
       " 'for',\n",
       " 'the',\n",
       " 'fans',\n",
       " 'which',\n",
       " 'if',\n",
       " 'true',\n",
       " 'is',\n",
       " 'really',\n",
       " 'nice',\n",
       " 'of',\n",
       " 'him',\n",
       " 'the',\n",
       " 'actual',\n",
       " 'feature',\n",
       " 'film',\n",
       " 'bit',\n",
       " 'when',\n",
       " 'it',\n",
       " 'finally',\n",
       " 'starts',\n",
       " 'is',\n",
       " 'only',\n",
       " 'on',\n",
       " 'for',\n",
       " 'minutes',\n",
       " 'or',\n",
       " 'so',\n",
       " 'excluding',\n",
       " 'the',\n",
       " 'smooth',\n",
       " 'criminal',\n",
       " 'sequence',\n",
       " 'and',\n",
       " 'joe',\n",
       " 'pesci',\n",
       " 'is',\n",
       " 'convincing',\n",
       " 'as',\n",
       " 'a',\n",
       " 'psychopathic',\n",
       " 'all',\n",
       " 'powerful',\n",
       " 'drug',\n",
       " 'lord',\n",
       " 'why',\n",
       " 'he',\n",
       " 'wants',\n",
       " 'mj',\n",
       " 'dead',\n",
       " 'so',\n",
       " 'bad',\n",
       " 'is',\n",
       " 'beyond',\n",
       " 'me',\n",
       " 'because',\n",
       " 'mj',\n",
       " 'overheard',\n",
       " 'his',\n",
       " 'plans',\n",
       " 'nah',\n",
       " 'joe',\n",
       " 'pesci',\n",
       " 's',\n",
       " 'character',\n",
       " 'ranted',\n",
       " 'that',\n",
       " 'he',\n",
       " 'wanted',\n",
       " 'people',\n",
       " 'to',\n",
       " 'know',\n",
       " 'it',\n",
       " 'is',\n",
       " 'he',\n",
       " 'who',\n",
       " 'is',\n",
       " 'supplying',\n",
       " 'drugs',\n",
       " 'etc',\n",
       " 'so',\n",
       " 'i',\n",
       " 'dunno',\n",
       " 'maybe',\n",
       " 'he',\n",
       " 'just',\n",
       " 'hates',\n",
       " 'mj',\n",
       " 's',\n",
       " 'music',\n",
       " 'lots',\n",
       " 'of',\n",
       " 'cool',\n",
       " 'things',\n",
       " 'in',\n",
       " 'this',\n",
       " 'like',\n",
       " 'mj',\n",
       " 'turning',\n",
       " 'into',\n",
       " 'a',\n",
       " 'car',\n",
       " 'and',\n",
       " 'a',\n",
       " 'robot',\n",
       " 'and',\n",
       " 'the',\n",
       " 'whole',\n",
       " 'speed',\n",
       " 'demon',\n",
       " 'sequence',\n",
       " 'also',\n",
       " 'the',\n",
       " 'director',\n",
       " 'must',\n",
       " 'have',\n",
       " 'had',\n",
       " 'the',\n",
       " 'patience',\n",
       " 'of',\n",
       " 'a',\n",
       " 'saint',\n",
       " 'when',\n",
       " 'it',\n",
       " 'came',\n",
       " 'to',\n",
       " 'filming',\n",
       " 'the',\n",
       " 'kiddy',\n",
       " 'bad',\n",
       " 'sequence',\n",
       " 'as',\n",
       " 'usually',\n",
       " 'directors',\n",
       " 'hate',\n",
       " 'working',\n",
       " 'with',\n",
       " 'one',\n",
       " 'kid',\n",
       " 'let',\n",
       " 'alone',\n",
       " 'a',\n",
       " 'whole',\n",
       " 'bunch',\n",
       " 'of',\n",
       " 'them',\n",
       " 'performing',\n",
       " 'a',\n",
       " 'complex',\n",
       " 'dance',\n",
       " 'scene',\n",
       " 'bottom',\n",
       " 'line',\n",
       " 'this',\n",
       " 'movie',\n",
       " 'is',\n",
       " 'for',\n",
       " 'people',\n",
       " 'who',\n",
       " 'like',\n",
       " 'mj',\n",
       " 'on',\n",
       " 'one',\n",
       " 'level',\n",
       " 'or',\n",
       " 'another',\n",
       " 'which',\n",
       " 'i',\n",
       " 'think',\n",
       " 'is',\n",
       " 'most',\n",
       " 'people',\n",
       " 'if',\n",
       " 'not',\n",
       " 'then',\n",
       " 'stay',\n",
       " 'away',\n",
       " 'it',\n",
       " 'does',\n",
       " 'try',\n",
       " 'and',\n",
       " 'give',\n",
       " 'off',\n",
       " 'a',\n",
       " 'wholesome',\n",
       " 'message',\n",
       " 'and',\n",
       " 'ironically',\n",
       " 'mj',\n",
       " 's',\n",
       " 'bestest',\n",
       " 'buddy',\n",
       " 'in',\n",
       " 'this',\n",
       " 'movie',\n",
       " 'is',\n",
       " 'a',\n",
       " 'girl',\n",
       " 'michael',\n",
       " 'jackson',\n",
       " 'is',\n",
       " 'truly',\n",
       " 'one',\n",
       " 'of',\n",
       " 'the',\n",
       " 'most',\n",
       " 'talented',\n",
       " 'people',\n",
       " 'ever',\n",
       " 'to',\n",
       " 'grace',\n",
       " 'this',\n",
       " 'planet',\n",
       " 'but',\n",
       " 'is',\n",
       " 'he',\n",
       " 'guilty',\n",
       " 'well',\n",
       " 'with',\n",
       " 'all',\n",
       " 'the',\n",
       " 'attention',\n",
       " 'i',\n",
       " 've',\n",
       " 'gave',\n",
       " 'this',\n",
       " 'subject',\n",
       " 'hmmm',\n",
       " 'well',\n",
       " 'i',\n",
       " 'don',\n",
       " 't',\n",
       " 'know',\n",
       " 'because',\n",
       " 'people',\n",
       " 'can',\n",
       " 'be',\n",
       " 'different',\n",
       " 'behind',\n",
       " 'closed',\n",
       " 'doors',\n",
       " 'i',\n",
       " 'know',\n",
       " 'this',\n",
       " 'for',\n",
       " 'a',\n",
       " 'fact',\n",
       " 'he',\n",
       " 'is',\n",
       " 'either',\n",
       " 'an',\n",
       " 'extremely',\n",
       " 'nice',\n",
       " 'but',\n",
       " 'stupid',\n",
       " 'guy',\n",
       " 'or',\n",
       " 'one',\n",
       " 'of',\n",
       " 'the',\n",
       " 'most',\n",
       " 'sickest',\n",
       " 'liars',\n",
       " 'i',\n",
       " 'hope',\n",
       " 'he',\n",
       " 'is',\n",
       " 'not',\n",
       " 'the',\n",
       " 'latter']"
      ]
     },
     "execution_count": 14,
     "metadata": {},
     "output_type": "execute_result"
    }
   ],
   "source": [
    "ornek_metin1"
   ]
  },
  {
   "cell_type": "code",
   "execution_count": 15,
   "id": "22543100",
   "metadata": {},
   "outputs": [],
   "source": [
    "swords=set(stopwords.words(\"english\"))\n",
    "ornek_metin1=[w for w in ornek_metin1 if w not in swords]"
   ]
  },
  {
   "cell_type": "code",
   "execution_count": 16,
   "id": "e59226b9",
   "metadata": {},
   "outputs": [
    {
     "data": {
      "text/plain": [
       "219"
      ]
     },
     "execution_count": 16,
     "metadata": {},
     "output_type": "execute_result"
    }
   ],
   "source": [
    "len(ornek_metin1)"
   ]
  },
  {
   "cell_type": "code",
   "execution_count": 18,
   "id": "418cba2a",
   "metadata": {},
   "outputs": [],
   "source": [
    "def islem(review):\n",
    "    review=BeautifulSoup(review,\"lxml\").get_text()\n",
    "    review=re.sub(\"[^a-zA-Z]\",\" \",review)\n",
    "    review=review.lower()\n",
    "    review=review.split()\n",
    "    review=[w for w in review if w not in swords]\n",
    "    return (\" \".join(review))\n",
    "    "
   ]
  },
  {
   "cell_type": "code",
   "execution_count": 21,
   "id": "b58395ba",
   "metadata": {},
   "outputs": [
    {
     "name": "stderr",
     "output_type": "stream",
     "text": [
      "C:\\Users\\kaaaaaaa\\AppData\\Local\\Temp\\ipykernel_14212\\4121200727.py:2: MarkupResemblesLocatorWarning: The input looks more like a filename than markup. You may want to open this file and pass the filehandle into Beautiful Soup.\n",
      "  review=BeautifulSoup(review,\"lxml\").get_text()\n"
     ]
    },
    {
     "name": "stdout",
     "output_type": "stream",
     "text": [
      "işlem tamam 1000\n",
      "işlem tamam 2000\n",
      "işlem tamam 3000\n",
      "işlem tamam 4000\n",
      "işlem tamam 5000\n",
      "işlem tamam 6000\n",
      "işlem tamam 7000\n",
      "işlem tamam 8000\n",
      "işlem tamam 9000\n",
      "işlem tamam 10000\n",
      "işlem tamam 11000\n",
      "işlem tamam 12000\n",
      "işlem tamam 13000\n",
      "işlem tamam 14000\n",
      "işlem tamam 15000\n",
      "işlem tamam 16000\n",
      "işlem tamam 17000\n",
      "işlem tamam 18000\n",
      "işlem tamam 19000\n",
      "işlem tamam 20000\n",
      "işlem tamam 21000\n",
      "işlem tamam 22000\n",
      "işlem tamam 23000\n",
      "işlem tamam 24000\n",
      "işlem tamam 25000\n"
     ]
    }
   ],
   "source": [
    "xtrain_tum_x=[]\n",
    "for i in range(len(data[\"review\"])):\n",
    "    if(i+1)%1000==0:\n",
    "        print(\"işlem tamam\",i+1)\n",
    "    xtrain_tum_x.append(islem(data[\"review\"][i]))\n",
    "               \n",
    "               "
   ]
  },
  {
   "cell_type": "code",
   "execution_count": 22,
   "id": "051306b3",
   "metadata": {},
   "outputs": [
    {
     "data": {
      "text/plain": [
       "25000"
      ]
     },
     "execution_count": 22,
     "metadata": {},
     "output_type": "execute_result"
    }
   ],
   "source": [
    "len(xtrain_tum_x)"
   ]
  },
  {
   "cell_type": "code",
   "execution_count": 24,
   "id": "6f8892a1",
   "metadata": {},
   "outputs": [],
   "source": [
    "from sklearn.model_selection import train_test_split\n",
    "x=xtrain_tum_x\n",
    "y=np.array(data[\"sentiment\"])"
   ]
  },
  {
   "cell_type": "code",
   "execution_count": 25,
   "id": "1441cbca",
   "metadata": {},
   "outputs": [
    {
     "data": {
      "text/plain": [
       "25000"
      ]
     },
     "execution_count": 25,
     "metadata": {},
     "output_type": "execute_result"
    }
   ],
   "source": [
    "len(x)"
   ]
  },
  {
   "cell_type": "code",
   "execution_count": 26,
   "id": "a1685e71",
   "metadata": {},
   "outputs": [
    {
     "data": {
      "text/plain": [
       "25000"
      ]
     },
     "execution_count": 26,
     "metadata": {},
     "output_type": "execute_result"
    }
   ],
   "source": [
    "len(y)"
   ]
  },
  {
   "cell_type": "code",
   "execution_count": 27,
   "id": "3879c0b6",
   "metadata": {},
   "outputs": [],
   "source": [
    "from sklearn.feature_extraction.text import CountVectorizer\n",
    "xtrain,xtest,ytrain,ytest=train_test_split(x,y,test_size=0.2,random_state=42)\n",
    "vectorizer=CountVectorizer(max_features=5000)\n",
    "xtrain=vectorizer.fit_transform(xtrain)"
   ]
  },
  {
   "cell_type": "code",
   "execution_count": 29,
   "id": "b7c961c0",
   "metadata": {},
   "outputs": [],
   "source": [
    "xtrain=xtrain.toarray()"
   ]
  },
  {
   "cell_type": "code",
   "execution_count": 32,
   "id": "95ecbba3",
   "metadata": {},
   "outputs": [
    {
     "data": {
      "text/html": [
       "<style>#sk-container-id-1 {color: black;}#sk-container-id-1 pre{padding: 0;}#sk-container-id-1 div.sk-toggleable {background-color: white;}#sk-container-id-1 label.sk-toggleable__label {cursor: pointer;display: block;width: 100%;margin-bottom: 0;padding: 0.3em;box-sizing: border-box;text-align: center;}#sk-container-id-1 label.sk-toggleable__label-arrow:before {content: \"▸\";float: left;margin-right: 0.25em;color: #696969;}#sk-container-id-1 label.sk-toggleable__label-arrow:hover:before {color: black;}#sk-container-id-1 div.sk-estimator:hover label.sk-toggleable__label-arrow:before {color: black;}#sk-container-id-1 div.sk-toggleable__content {max-height: 0;max-width: 0;overflow: hidden;text-align: left;background-color: #f0f8ff;}#sk-container-id-1 div.sk-toggleable__content pre {margin: 0.2em;color: black;border-radius: 0.25em;background-color: #f0f8ff;}#sk-container-id-1 input.sk-toggleable__control:checked~div.sk-toggleable__content {max-height: 200px;max-width: 100%;overflow: auto;}#sk-container-id-1 input.sk-toggleable__control:checked~label.sk-toggleable__label-arrow:before {content: \"▾\";}#sk-container-id-1 div.sk-estimator input.sk-toggleable__control:checked~label.sk-toggleable__label {background-color: #d4ebff;}#sk-container-id-1 div.sk-label input.sk-toggleable__control:checked~label.sk-toggleable__label {background-color: #d4ebff;}#sk-container-id-1 input.sk-hidden--visually {border: 0;clip: rect(1px 1px 1px 1px);clip: rect(1px, 1px, 1px, 1px);height: 1px;margin: -1px;overflow: hidden;padding: 0;position: absolute;width: 1px;}#sk-container-id-1 div.sk-estimator {font-family: monospace;background-color: #f0f8ff;border: 1px dotted black;border-radius: 0.25em;box-sizing: border-box;margin-bottom: 0.5em;}#sk-container-id-1 div.sk-estimator:hover {background-color: #d4ebff;}#sk-container-id-1 div.sk-parallel-item::after {content: \"\";width: 100%;border-bottom: 1px solid gray;flex-grow: 1;}#sk-container-id-1 div.sk-label:hover label.sk-toggleable__label {background-color: #d4ebff;}#sk-container-id-1 div.sk-serial::before {content: \"\";position: absolute;border-left: 1px solid gray;box-sizing: border-box;top: 0;bottom: 0;left: 50%;z-index: 0;}#sk-container-id-1 div.sk-serial {display: flex;flex-direction: column;align-items: center;background-color: white;padding-right: 0.2em;padding-left: 0.2em;position: relative;}#sk-container-id-1 div.sk-item {position: relative;z-index: 1;}#sk-container-id-1 div.sk-parallel {display: flex;align-items: stretch;justify-content: center;background-color: white;position: relative;}#sk-container-id-1 div.sk-item::before, #sk-container-id-1 div.sk-parallel-item::before {content: \"\";position: absolute;border-left: 1px solid gray;box-sizing: border-box;top: 0;bottom: 0;left: 50%;z-index: -1;}#sk-container-id-1 div.sk-parallel-item {display: flex;flex-direction: column;z-index: 1;position: relative;background-color: white;}#sk-container-id-1 div.sk-parallel-item:first-child::after {align-self: flex-end;width: 50%;}#sk-container-id-1 div.sk-parallel-item:last-child::after {align-self: flex-start;width: 50%;}#sk-container-id-1 div.sk-parallel-item:only-child::after {width: 0;}#sk-container-id-1 div.sk-dashed-wrapped {border: 1px dashed gray;margin: 0 0.4em 0.5em 0.4em;box-sizing: border-box;padding-bottom: 0.4em;background-color: white;}#sk-container-id-1 div.sk-label label {font-family: monospace;font-weight: bold;display: inline-block;line-height: 1.2em;}#sk-container-id-1 div.sk-label-container {text-align: center;}#sk-container-id-1 div.sk-container {/* jupyter's `normalize.less` sets `[hidden] { display: none; }` but bootstrap.min.css set `[hidden] { display: none !important; }` so we also need the `!important` here to be able to override the default hidden behavior on the sphinx rendered scikit-learn.org. See: https://github.com/scikit-learn/scikit-learn/issues/21755 */display: inline-block !important;position: relative;}#sk-container-id-1 div.sk-text-repr-fallback {display: none;}</style><div id=\"sk-container-id-1\" class=\"sk-top-container\"><div class=\"sk-text-repr-fallback\"><pre>RandomForestClassifier()</pre><b>In a Jupyter environment, please rerun this cell to show the HTML representation or trust the notebook. <br />On GitHub, the HTML representation is unable to render, please try loading this page with nbviewer.org.</b></div><div class=\"sk-container\" hidden><div class=\"sk-item\"><div class=\"sk-estimator sk-toggleable\"><input class=\"sk-toggleable__control sk-hidden--visually\" id=\"sk-estimator-id-1\" type=\"checkbox\" checked><label for=\"sk-estimator-id-1\" class=\"sk-toggleable__label sk-toggleable__label-arrow\">RandomForestClassifier</label><div class=\"sk-toggleable__content\"><pre>RandomForestClassifier()</pre></div></div></div></div></div>"
      ],
      "text/plain": [
       "RandomForestClassifier()"
      ]
     },
     "execution_count": 32,
     "metadata": {},
     "output_type": "execute_result"
    }
   ],
   "source": [
    "from sklearn.ensemble import RandomForestClassifier\n",
    "rf=RandomForestClassifier(n_estimators=100)\n",
    "rf.fit(xtrain,ytrain)"
   ]
  },
  {
   "cell_type": "code",
   "execution_count": 33,
   "id": "c7682a95",
   "metadata": {},
   "outputs": [],
   "source": [
    "xtest=vectorizer.transform(xtest)"
   ]
  },
  {
   "cell_type": "code",
   "execution_count": 34,
   "id": "d5ee1daf",
   "metadata": {},
   "outputs": [],
   "source": [
    "from sklearn.metrics import roc_auc_score\n",
    "ytest_pred=rf.predict(xtest)\n",
    "dogruluk=roc_auc_score(ytest,ytest_pred)"
   ]
  },
  {
   "cell_type": "code",
   "execution_count": 35,
   "id": "e48c54c2",
   "metadata": {},
   "outputs": [
    {
     "data": {
      "text/plain": [
       "0.8404211827275143"
      ]
     },
     "execution_count": 35,
     "metadata": {},
     "output_type": "execute_result"
    }
   ],
   "source": [
    "dogruluk"
   ]
  },
  {
   "cell_type": "code",
   "execution_count": 41,
   "id": "adb7ea4e",
   "metadata": {},
   "outputs": [],
   "source": [
    "ornek = \"The quick brown fox jumps over the lazy dog.\""
   ]
  },
  {
   "cell_type": "code",
   "execution_count": 42,
   "id": "2e50fae0",
   "metadata": {},
   "outputs": [],
   "source": [
    "islenmis=islem(ornek)"
   ]
  },
  {
   "cell_type": "code",
   "execution_count": 43,
   "id": "612eb23b",
   "metadata": {},
   "outputs": [
    {
     "data": {
      "text/plain": [
       "'quick brown fox jumps lazy dog'"
      ]
     },
     "execution_count": 43,
     "metadata": {},
     "output_type": "execute_result"
    }
   ],
   "source": [
    "islenmis"
   ]
  },
  {
   "cell_type": "code",
   "execution_count": 44,
   "id": "a941cf6e",
   "metadata": {},
   "outputs": [],
   "source": [
    "manuel_vector=vectorizer.transform([islenmis])"
   ]
  },
  {
   "cell_type": "code",
   "execution_count": 46,
   "id": "fccd8994",
   "metadata": {},
   "outputs": [],
   "source": [
    "tahmin=rf.predict(manuel_vector)"
   ]
  },
  {
   "cell_type": "code",
   "execution_count": 47,
   "id": "a04f11df",
   "metadata": {},
   "outputs": [
    {
     "data": {
      "text/plain": [
       "array([1], dtype=int64)"
      ]
     },
     "execution_count": 47,
     "metadata": {},
     "output_type": "execute_result"
    }
   ],
   "source": [
    "tahmin"
   ]
  },
  {
   "cell_type": "code",
   "execution_count": 48,
   "id": "3ee24944",
   "metadata": {},
   "outputs": [
    {
     "name": "stdout",
     "output_type": "stream",
     "text": [
      "ifade pozitif\n"
     ]
    }
   ],
   "source": [
    "if tahmin[0]==1:\n",
    "    print(\"ifade pozitif\")\n",
    "else:\n",
    "    print(\"ifade negatif\")"
   ]
  },
  {
   "cell_type": "code",
   "execution_count": null,
   "id": "a980b2a2",
   "metadata": {},
   "outputs": [],
   "source": []
  }
 ],
 "metadata": {
  "kernelspec": {
   "display_name": "Python 3 (ipykernel)",
   "language": "python",
   "name": "python3"
  },
  "language_info": {
   "codemirror_mode": {
    "name": "ipython",
    "version": 3
   },
   "file_extension": ".py",
   "mimetype": "text/x-python",
   "name": "python",
   "nbconvert_exporter": "python",
   "pygments_lexer": "ipython3",
   "version": "3.12.4"
  }
 },
 "nbformat": 4,
 "nbformat_minor": 5
}
